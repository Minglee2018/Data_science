{
 "cells": [
  {
   "cell_type": "code",
   "execution_count": 186,
   "metadata": {},
   "outputs": [
    {
     "name": "stdout",
     "output_type": "stream",
     "text": [
      "[2, 2, 2, 2, 2, 2, 2, 2, 2, 2, 2, 2, 2, 2, 2, 2, 2, 2, 2, 2, 2, 2, 2, 2, 2, 2, 2, 2, 2, 2, 2, 2, 2, 2, 2, 2, 2, 2, 2, 2, 2, 2, 2, 2, 2, 2, 2, 2, 2, 2, 2, 2, 2, 2, 2, 2, 2, 2, 2, 2, 2, 2, 2, 2, 2, 2, 2, 2, 2, 2, 2, 2, 2, 2, 2, 2, 2, 2, 2, 2, 2, 2, 2, 2, 2, 2, 2, 2, 2, 2, 2, 2, 2, 2, 2, 2, 2, 2, 2, 2]\n"
     ]
    }
   ],
   "source": [
    "def solve(N):\n",
    "    '''Create a list which contains N elements 2'''\n",
    "    return N*[2]\n",
    "\n",
    "def main():\n",
    "    print(solve(100))\n",
    "\n",
    "\n",
    "if __name__ == \"__main__\":\n",
    "    main()"
   ]
  },
  {
   "cell_type": "code",
   "execution_count": 188,
   "metadata": {},
   "outputs": [
    {
     "name": "stdout",
     "output_type": "stream",
     "text": [
      "[7, 9, 8, 6, 7, 6, 6, 0, 3, 1, 4, 6, 5, 0, 0, 5, 0, 3, 8, 8, 9, 3, 6, 8, 6, 9, 6, 6, 4, 2, 1, 4, 4, 0, 9, 8, 4, 4, 1, 7, 2, 5, 3, 3, 8, 3, 0, 1, 7, 2, 9, 3, 2, 3, 6, 0, 1, 2, 9, 0, 3, 1, 1, 6, 2, 6, 6, 8, 6, 8, 2, 6, 5, 3, 0, 6, 3, 2, 3, 3, 2, 6, 9, 4, 6, 1, 2, 2, 1, 5, 7, 8, 6, 8, 7, 8, 9, 7, 7, 1]\n"
     ]
    }
   ],
   "source": [
    "import random\n",
    "\n",
    "def solve(N):\n",
    "    '''Creates a list which contains N random integers, each >=0, <=9\n",
    "\n",
    "    To generate 1 random integer, use::\n",
    "\n",
    "      import random\n",
    "      random.randrange(0, 10)\n",
    "    '''\n",
    "    return [(random.randint(0,9)) for i in range(N) if True]\n",
    "\n",
    "\n",
    "def main():\n",
    "    print(solve(100))\n",
    "\n",
    "\n",
    "if __name__ == \"__main__\":\n",
    "    main()\n"
   ]
  },
  {
   "cell_type": "code",
   "execution_count": 180,
   "metadata": {},
   "outputs": [
    {
     "name": "stdout",
     "output_type": "stream",
     "text": [
      "362880\n"
     ]
    }
   ],
   "source": [
    "import functools\n",
    "def solve(numbers):\n",
    "    '''Calculate product of given numbers\n",
    "\n",
    "    Use reduce, not loop. Example of using reduce\n",
    "\n",
    "    In [6]: import functools\n",
    "    In [8]: functools.reduce(lambda x,y: x+y, [1,2,3,4,5], 0)\n",
    "    Out[8]: 15\n",
    "    '''\n",
    "    return functools.reduce(lambda a,b: a*b, numbers,1)\n",
    "\n",
    "\n",
    "def main():\n",
    "    print(solve(range(1,10)))\n",
    "\n",
    "\n",
    "if __name__ == \"__main__\":\n",
    "    main()\n"
   ]
  },
  {
   "cell_type": "code",
   "execution_count": 173,
   "metadata": {},
   "outputs": [
    {
     "data": {
      "text/plain": [
       "120"
      ]
     },
     "execution_count": 173,
     "metadata": {},
     "output_type": "execute_result"
    }
   ],
   "source": [
    "import functools\n",
    "functools.reduce(lambda x,y: x*y, [1,2,3,4,5],1)"
   ]
  },
  {
   "cell_type": "code",
   "execution_count": 190,
   "metadata": {},
   "outputs": [
    {
     "name": "stdout",
     "output_type": "stream",
     "text": [
      "[1, 3, 5, 7, 9, 11, 13, 15, 17, 19, 21, 23, 25, 27, 29, 31, 33, 35, 37, 39, 41, 43, 45, 47, 49, 51, 53, 55, 57, 59, 61, 63, 65, 67, 69, 71, 73, 75, 77, 79, 81, 83, 85, 87, 89, 91, 93, 95, 97, 99]\n"
     ]
    }
   ],
   "source": [
    "\n",
    "def solve(numbers):\n",
    "    '''Create a list contains only odd numbers from given list\n",
    "\n",
    "    Use filter, not listcomps. Example of using filter\n",
    "\n",
    "    In [5]: filter(lambda x: x == 1, [12,3,1,2,3,1,1])\n",
    "    Out[5]: [1, 1, 1]\n",
    "    '''\n",
    "    return list(filter(lambda x:x%2==1,numbers))\n",
    "\n",
    "\n",
    "def main():\n",
    "    print(solve(range(100)))\n",
    "\n",
    "\n",
    "if __name__ == \"__main__\":\n",
    "    main()\n"
   ]
  },
  {
   "cell_type": "code",
   "execution_count": null,
   "metadata": {},
   "outputs": [],
   "source": []
  },
  {
   "cell_type": "code",
   "execution_count": 156,
   "metadata": {},
   "outputs": [
    {
     "name": "stdout",
     "output_type": "stream",
     "text": [
      "[0, 2, 4, 6, 8, 10, 12, 14, 16, 18]\n"
     ]
    }
   ],
   "source": [
    "\n",
    "def solve(numbers):\n",
    "    '''Create a list that each element is 2 times of each given numbers.\n",
    "\n",
    "    Use map, not listcomps. Example of using map\n",
    "\n",
    "    In [2]: map(lambda x: x+1, [1,2,3,4,5])\n",
    "    Out[2]: [2, 3, 4, 5, 6]\n",
    "    '''\n",
    "    return list(map(lambda x: x*2, numbers))\n",
    "\n",
    "def main():\n",
    "    print(solve(range(10)))\n",
    "    \n",
    "if __name__ == \"__main__\":\n",
    "    main()\n",
    "\n"
   ]
  },
  {
   "cell_type": "code",
   "execution_count": null,
   "metadata": {},
   "outputs": [],
   "source": []
  },
  {
   "cell_type": "code",
   "execution_count": 290,
   "metadata": {},
   "outputs": [
    {
     "name": "stdout",
     "output_type": "stream",
     "text": [
      "([[0, 1, 2, 3, 4, 5, 6, 7, 8, 9], [0, 1, 2, 3, 4, 5, 6, 7, 8, 9], [0, 1, 2, 3, 4, 5, 6, 7, 8, 9], [0, 1, 2, 3, 4, 5, 6, 7, 8, 9], [0, 1, 2, 3, 4, 5, 6, 7, 8, 9], [0, 1, 2, 3, 4, 5, 6, 7, 8, 9], [0, 1, 2, 3, 4, 5, 6, 7, 8, 9], [0, 1, 2, 3, 4, 5, 6, 7, 8, 9], [0, 1, 2, 3, 4, 5, 6, 7, 8, 9], [0, 1, 2, 3, 4, 5, 6, 7, 8, 9]], ['0********0', '*1******1*', '**2****2**', '***3**3***', '****44****', '****55****', '***6**6***', '**7****7**', '*8******8*', '9********9']) \n",
      " \n",
      " \n"
     ]
    }
   ],
   "source": [
    "def solve(N):\n",
    "\n",
    "    '''Create a list which contains N lists,\n",
    "    each list contains N numbers from 0->N-1.\n",
    "\n",
    "    E.g with N = 10:\n",
    "\n",
    "    matrix = [\n",
    "      [0, 1, 2, 3, 4, 5, 6, 7, 8, 9],\n",
    "      [0, 1, 2, 3, 4, 5, 6, 7, 8, 9],\n",
    "      ...\n",
    "      ...\n",
    "      [0, 1, 2, 3, 4, 5, 6, 7, 8, 9],\n",
    "      [0, 1, 2, 3, 4, 5, 6, 7, 8, 9]\n",
    "    ]\n",
    "\n",
    "    Then returns a string looks like below\n",
    "\n",
    "      0********0\n",
    "      *1******1*\n",
    "      **2****2**\n",
    "      ***3**3***\n",
    "      ****44****\n",
    "      ****55****\n",
    "      ***6**6***\n",
    "      **7****7**\n",
    "      *8******8*\n",
    "      9********9\n",
    "    '''\n",
    "    result=[];p=[];s=\"\"\n",
    "    result = [list(range(N)) for i in range(N) if True]\n",
    "    for i in range(N):\n",
    "        for j in range(N):\n",
    "            if j == N-i-1:\n",
    "                s+=str(i)\n",
    "            elif i==j: \n",
    "                s+=str(i)\n",
    "            else:\n",
    "                s+='*'\n",
    "        p.append(s);s=\"\";\n",
    "    return result,p\n",
    "\n",
    "\n",
    "def main():\n",
    "    print(solve(10),end=\" \\n \\n \\n\")\n",
    "    \n",
    "if __name__ == \"__main__\":\n",
    "    main()   \n"
   ]
  },
  {
   "cell_type": "code",
   "execution_count": 285,
   "metadata": {},
   "outputs": [
    {
     "ename": "NameError",
     "evalue": "name 'x' is not defined",
     "output_type": "error",
     "traceback": [
      "\u001b[1;31m---------------------------------------------------------------------------\u001b[0m",
      "\u001b[1;31mNameError\u001b[0m                                 Traceback (most recent call last)",
      "\u001b[1;32m<ipython-input-285-6fcf9dfbd479>\u001b[0m in \u001b[0;36m<module>\u001b[1;34m()\u001b[0m\n\u001b[1;32m----> 1\u001b[1;33m \u001b[0mx\u001b[0m\u001b[1;33m\u001b[0m\u001b[0m\n\u001b[0m",
      "\u001b[1;31mNameError\u001b[0m: name 'x' is not defined"
     ]
    }
   ],
   "source": [
    "x"
   ]
  },
  {
   "cell_type": "code",
   "execution_count": null,
   "metadata": {},
   "outputs": [],
   "source": []
  },
  {
   "cell_type": "code",
   "execution_count": 258,
   "metadata": {},
   "outputs": [
    {
     "name": "stdout",
     "output_type": "stream",
     "text": [
      "233168\n"
     ]
    }
   ],
   "source": [
    "def solve(N):\n",
    "    '''Calculates sum of a list contains all integers less than N,\n",
    "    which are multiple of 3 or 5.\n",
    "\n",
    "    Given `sum` function:\n",
    "    >>>  sum([1,2,3,4]) == 10\n",
    "    '''\n",
    "    return sum((i) for i in range(N) if i%3==0 or i%5==0)\n",
    "\n",
    "\n",
    "def main():\n",
    "    print(solve(1000))\n",
    "\n",
    "\n",
    "if __name__ == \"__main__\":\n",
    "    main()\n"
   ]
  },
  {
   "cell_type": "code",
   "execution_count": null,
   "metadata": {},
   "outputs": [],
   "source": [
    "def solve(N):\n",
    "    '''Creates a list which contains N first even integers. ``[2, 4 ...]``\n",
    "    '''\n",
    "    return list(range(2,N,2))\n",
    "\n",
    "\n",
    "def main():\n",
    "    print(solve(6))\n",
    "\n",
    "\n",
    "if __name__ == \"__main__\":\n",
    "    main()"
   ]
  }
 ],
 "metadata": {
  "kernelspec": {
   "display_name": "Python 3",
   "language": "python",
   "name": "python3"
  },
  "language_info": {
   "codemirror_mode": {
    "name": "ipython",
    "version": 3
   },
   "file_extension": ".py",
   "mimetype": "text/x-python",
   "name": "python",
   "nbconvert_exporter": "python",
   "pygments_lexer": "ipython3",
   "version": "3.6.5"
  }
 },
 "nbformat": 4,
 "nbformat_minor": 2
}
