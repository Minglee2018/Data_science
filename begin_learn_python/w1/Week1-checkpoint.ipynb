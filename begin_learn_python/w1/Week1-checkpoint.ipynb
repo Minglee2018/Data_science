{
 "cells": [
  {
   "cell_type": "code",
   "execution_count": 1,
   "metadata": {},
   "outputs": [
    {
     "name": "stdout",
     "output_type": "stream",
     "text": [
      "Current date and time : \n",
      "2018-09-05 04:13:03\n"
     ]
    }
   ],
   "source": [
    "import datetime # import thư viện datetime form module \n",
    "now = datetime.datetime.now()   # tạo biến bởi chấm phương thức trả về thời gian location now \n",
    "print (\"Current date and time : \") \n",
    "print (now.strftime(\"%Y-%m-%d %H:%M:%S\"))\n",
    "# các kiểu định dạng từ một chuỗi string \n"
   ]
  },
  {
   "cell_type": "code",
   "execution_count": 2,
   "metadata": {},
   "outputs": [
    {
     "name": "stdout",
     "output_type": "stream",
     "text": [
      "20\n"
     ]
    }
   ],
   "source": [
    "def sum(x, y): # khai báo hàm và đối số \n",
    "    sum = x + y                 \n",
    "    if sum in range(15, 20):  # nếu  15<=sum<20 trả về 20 \n",
    "        return 20\n",
    "    else:\n",
    "        return sum            # trả về sum\n",
    "\n",
    "print(sum(10, 6))\n"
   ]
  },
  {
   "cell_type": "code",
   "execution_count": null,
   "metadata": {},
   "outputs": [],
   "source": []
  }
 ],
 "metadata": {
  "kernelspec": {
   "display_name": "Python 3",
   "language": "python",
   "name": "python3"
  },
  "language_info": {
   "codemirror_mode": {
    "name": "ipython",
    "version": 3
   },
   "file_extension": ".py",
   "mimetype": "text/x-python",
   "name": "python",
   "nbconvert_exporter": "python",
   "pygments_lexer": "ipython3",
   "version": "3.6.5"
  }
 },
 "nbformat": 4,
 "nbformat_minor": 2
}
